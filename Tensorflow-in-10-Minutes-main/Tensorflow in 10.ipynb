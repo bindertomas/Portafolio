{
 "cells": [
  {
   "cell_type": "markdown",
   "metadata": {},
   "source": [
    "# 0. Import Data"
   ]
  },
  {
   "cell_type": "code",
   "execution_count": 7,
   "metadata": {},
   "outputs": [],
   "source": [
    "%reload_ext tensorboard\n",
    "import pandas as pd\n",
    "import datetime\n",
    "from sklearn.model_selection import train_test_split"
   ]
  },
  {
   "cell_type": "code",
   "execution_count": 8,
   "metadata": {},
   "outputs": [],
   "source": [
    "df = pd.read_csv('Churn.csv')"
   ]
  },
  {
   "cell_type": "code",
   "execution_count": 9,
   "metadata": {},
   "outputs": [],
   "source": [
    "# Elimina Churn y customer id de las variables independientes\n",
    "X = pd.get_dummies(df.drop(['Churn', 'Customer ID'], axis=1))\n",
    "# Transformar la variable Churn Yes a 1 y No a 0 \n",
    "y = df['Churn'].apply(lambda x: 1 if x=='Yes' else 0)"
   ]
  },
  {
   "cell_type": "code",
   "execution_count": 10,
   "metadata": {},
   "outputs": [],
   "source": [
    "#Separa X e Y en dos muestras una para entrenar el modelo y otro para testear modelo\n",
    "X_train, X_test, y_train, y_test = train_test_split(X, y, test_size=.2)"
   ]
  },
  {
   "cell_type": "code",
   "execution_count": 11,
   "metadata": {},
   "outputs": [
    {
     "data": {
      "text/plain": [
       "2779    0\n",
       "6053    0\n",
       "1514    1\n",
       "1914    0\n",
       "460     0\n",
       "Name: Churn, dtype: int64"
      ]
     },
     "execution_count": 11,
     "metadata": {},
     "output_type": "execute_result"
    }
   ],
   "source": [
    "y_train.head()"
   ]
  },
  {
   "cell_type": "markdown",
   "metadata": {},
   "source": [
    "# 1. Import Dependencies"
   ]
  },
  {
   "cell_type": "code",
   "execution_count": 12,
   "metadata": {},
   "outputs": [],
   "source": [
    "import tensorflow as tf\n",
    "from tensorflow.keras.models import Sequential, load_model\n",
    "from tensorflow.keras.layers import Dense\n",
    "from sklearn.metrics import accuracy_score"
   ]
  },
  {
   "cell_type": "markdown",
   "metadata": {},
   "source": [
    "# 2. Build and Compile Model"
   ]
  },
  {
   "cell_type": "code",
   "execution_count": 13,
   "metadata": {},
   "outputs": [
    {
     "name": "stderr",
     "output_type": "stream",
     "text": [
      "2022-08-22 12:54:07.026650: I tensorflow/core/platform/cpu_feature_guard.cc:193] This TensorFlow binary is optimized with oneAPI Deep Neural Network Library (oneDNN) to use the following CPU instructions in performance-critical operations:  AVX2 FMA\n",
      "To enable them in other operations, rebuild TensorFlow with the appropriate compiler flags.\n"
     ]
    }
   ],
   "source": [
    "#Crear modelo secuencial\n",
    "model = Sequential()\n",
    "#Agregar capas\n",
    "model.add(Dense(units=32, activation='relu', input_dim=len(X_train.columns)))\n",
    "model.add(Dense(units=64, activation='relu'))\n",
    "model.add(Dense(units=1, activation='sigmoid'))"
   ]
  },
  {
   "cell_type": "code",
   "execution_count": 14,
   "metadata": {},
   "outputs": [],
   "source": [
    "model.compile(loss='binary_crossentropy', optimizer='sgd', metrics='accuracy')"
   ]
  },
  {
   "cell_type": "markdown",
   "metadata": {},
   "source": [
    "# 3. Fit, Predict and Evaluate"
   ]
  },
  {
   "cell_type": "code",
   "execution_count": 17,
   "metadata": {
    "collapsed": true
   },
   "outputs": [
    {
     "data": {
      "text/html": [
       "\n",
       "      <iframe id=\"tensorboard-frame-28b436d782bc967c\" width=\"100%\" height=\"800\" frameborder=\"0\">\n",
       "      </iframe>\n",
       "      <script>\n",
       "        (function() {\n",
       "          const frame = document.getElementById(\"tensorboard-frame-28b436d782bc967c\");\n",
       "          const url = new URL(\"/\", window.location);\n",
       "          const port = 6008;\n",
       "          if (port) {\n",
       "            url.port = port;\n",
       "          }\n",
       "          frame.src = url;\n",
       "        })();\n",
       "      </script>\n",
       "    "
      ],
      "text/plain": [
       "<IPython.core.display.HTML object>"
      ]
     },
     "metadata": {},
     "output_type": "display_data"
    },
    {
     "name": "stdout",
     "output_type": "stream",
     "text": [
      "Epoch 1/100\n",
      "177/177 [==============================] - 2s 10ms/step - loss: 0.4201 - accuracy: 0.8002 - val_loss: 0.4207 - val_accuracy: 0.7977\n",
      "Epoch 2/100\n",
      "177/177 [==============================] - 2s 12ms/step - loss: 0.4197 - accuracy: 0.8018 - val_loss: 0.4618 - val_accuracy: 0.7757\n",
      "Epoch 3/100\n",
      "177/177 [==============================] - 2s 14ms/step - loss: 0.4217 - accuracy: 0.7973 - val_loss: 0.4240 - val_accuracy: 0.7949\n",
      "Epoch 4/100\n",
      "177/177 [==============================] - 2s 12ms/step - loss: 0.4216 - accuracy: 0.8012 - val_loss: 0.4242 - val_accuracy: 0.7956\n",
      "Epoch 5/100\n",
      "177/177 [==============================] - 2s 11ms/step - loss: 0.4207 - accuracy: 0.8025 - val_loss: 0.5798 - val_accuracy: 0.7239\n",
      "Epoch 6/100\n",
      "177/177 [==============================] - 2s 11ms/step - loss: 0.4203 - accuracy: 0.7989 - val_loss: 0.4735 - val_accuracy: 0.7644\n",
      "Epoch 7/100\n",
      "177/177 [==============================] - 2s 12ms/step - loss: 0.4215 - accuracy: 0.8028 - val_loss: 0.4422 - val_accuracy: 0.7913\n",
      "Epoch 8/100\n",
      "177/177 [==============================] - 1s 8ms/step - loss: 0.4204 - accuracy: 0.8066 - val_loss: 0.6807 - val_accuracy: 0.7381\n",
      "Epoch 9/100\n",
      "177/177 [==============================] - 1s 8ms/step - loss: 0.4344 - accuracy: 0.7954 - val_loss: 0.4293 - val_accuracy: 0.7921\n",
      "Epoch 10/100\n",
      "177/177 [==============================] - 2s 10ms/step - loss: 0.4197 - accuracy: 0.8060 - val_loss: 0.4456 - val_accuracy: 0.7906\n",
      "Epoch 11/100\n",
      "177/177 [==============================] - 2s 10ms/step - loss: 0.4186 - accuracy: 0.8032 - val_loss: 0.4236 - val_accuracy: 0.7942\n",
      "Epoch 12/100\n",
      "177/177 [==============================] - 1s 7ms/step - loss: 0.4195 - accuracy: 0.7989 - val_loss: 0.4242 - val_accuracy: 0.7942\n",
      "Epoch 13/100\n",
      "177/177 [==============================] - 2s 9ms/step - loss: 0.4228 - accuracy: 0.8011 - val_loss: 0.4246 - val_accuracy: 0.7949\n",
      "Epoch 14/100\n",
      "177/177 [==============================] - 1s 7ms/step - loss: 0.4212 - accuracy: 0.8055 - val_loss: 0.4665 - val_accuracy: 0.7672\n",
      "Epoch 15/100\n",
      "177/177 [==============================] - 2s 9ms/step - loss: 0.4207 - accuracy: 0.8060 - val_loss: 0.4392 - val_accuracy: 0.7864\n",
      "Epoch 16/100\n",
      "177/177 [==============================] - 1s 8ms/step - loss: 0.4191 - accuracy: 0.8034 - val_loss: 0.5433 - val_accuracy: 0.6771\n",
      "Epoch 17/100\n",
      "177/177 [==============================] - 1s 8ms/step - loss: 0.4198 - accuracy: 0.8075 - val_loss: 0.9329 - val_accuracy: 0.5103\n",
      "Epoch 18/100\n",
      "177/177 [==============================] - 1s 6ms/step - loss: 0.4242 - accuracy: 0.8011 - val_loss: 0.4811 - val_accuracy: 0.7672\n",
      "Epoch 19/100\n",
      "177/177 [==============================] - 1s 6ms/step - loss: 0.4211 - accuracy: 0.8041 - val_loss: 0.5012 - val_accuracy: 0.7615\n",
      "Epoch 20/100\n",
      "177/177 [==============================] - 1s 6ms/step - loss: 0.4215 - accuracy: 0.8014 - val_loss: 0.4334 - val_accuracy: 0.7878\n",
      "Epoch 21/100\n",
      "177/177 [==============================] - 1s 7ms/step - loss: 0.4206 - accuracy: 0.8028 - val_loss: 0.4892 - val_accuracy: 0.7807\n",
      "Epoch 22/100\n",
      "177/177 [==============================] - 1s 7ms/step - loss: 0.4189 - accuracy: 0.8066 - val_loss: 0.4273 - val_accuracy: 0.7949\n",
      "Epoch 23/100\n",
      "177/177 [==============================] - 1s 8ms/step - loss: 0.4198 - accuracy: 0.8046 - val_loss: 0.7826 - val_accuracy: 0.6011\n",
      "Epoch 24/100\n",
      "177/177 [==============================] - 2s 11ms/step - loss: 0.4197 - accuracy: 0.8023 - val_loss: 0.4643 - val_accuracy: 0.7828\n",
      "Epoch 25/100\n",
      "177/177 [==============================] - 2s 9ms/step - loss: 0.4237 - accuracy: 0.7980 - val_loss: 0.4254 - val_accuracy: 0.7963\n",
      "Epoch 26/100\n",
      "177/177 [==============================] - 2s 10ms/step - loss: 0.4209 - accuracy: 0.8046 - val_loss: 0.4488 - val_accuracy: 0.7956\n",
      "Epoch 27/100\n",
      "177/177 [==============================] - 1s 7ms/step - loss: 0.4200 - accuracy: 0.8014 - val_loss: 0.4293 - val_accuracy: 0.7842\n",
      "Epoch 28/100\n",
      "177/177 [==============================] - 2s 10ms/step - loss: 0.4212 - accuracy: 0.8039 - val_loss: 0.5099 - val_accuracy: 0.7516\n",
      "Epoch 29/100\n",
      "177/177 [==============================] - 1s 7ms/step - loss: 0.4190 - accuracy: 0.8011 - val_loss: 0.4213 - val_accuracy: 0.7970\n",
      "Epoch 30/100\n",
      "177/177 [==============================] - 1s 8ms/step - loss: 0.4202 - accuracy: 0.8007 - val_loss: 0.4515 - val_accuracy: 0.7786\n",
      "Epoch 31/100\n",
      "177/177 [==============================] - 1s 8ms/step - loss: 0.4205 - accuracy: 0.8028 - val_loss: 0.4415 - val_accuracy: 0.7828\n",
      "Epoch 32/100\n",
      "177/177 [==============================] - 1s 7ms/step - loss: 0.4198 - accuracy: 0.8041 - val_loss: 0.4226 - val_accuracy: 0.7977\n",
      "Epoch 33/100\n",
      "177/177 [==============================] - 2s 9ms/step - loss: 0.4220 - accuracy: 0.8018 - val_loss: 0.4442 - val_accuracy: 0.7913\n",
      "Epoch 34/100\n",
      "177/177 [==============================] - 2s 10ms/step - loss: 0.4179 - accuracy: 0.8041 - val_loss: 0.4200 - val_accuracy: 0.8013\n",
      "Epoch 35/100\n",
      "177/177 [==============================] - 1s 8ms/step - loss: 0.4174 - accuracy: 0.8071 - val_loss: 0.4263 - val_accuracy: 0.7871\n",
      "Epoch 36/100\n",
      "177/177 [==============================] - 2s 13ms/step - loss: 0.4198 - accuracy: 0.8039 - val_loss: 0.4202 - val_accuracy: 0.7977\n",
      "Epoch 37/100\n",
      "177/177 [==============================] - 2s 11ms/step - loss: 0.4190 - accuracy: 0.8060 - val_loss: 0.4259 - val_accuracy: 0.7949\n",
      "Epoch 38/100\n",
      "177/177 [==============================] - 2s 11ms/step - loss: 0.4179 - accuracy: 0.8075 - val_loss: 0.4689 - val_accuracy: 0.7722\n",
      "Epoch 39/100\n",
      "177/177 [==============================] - 3s 14ms/step - loss: 0.4224 - accuracy: 0.7998 - val_loss: 0.4186 - val_accuracy: 0.7999\n",
      "Epoch 40/100\n",
      "177/177 [==============================] - 2s 11ms/step - loss: 0.4181 - accuracy: 0.8025 - val_loss: 0.5957 - val_accuracy: 0.7154\n",
      "Epoch 41/100\n",
      "177/177 [==============================] - 2s 11ms/step - loss: 0.4194 - accuracy: 0.8020 - val_loss: 0.4512 - val_accuracy: 0.7878\n",
      "Epoch 42/100\n",
      "177/177 [==============================] - 2s 9ms/step - loss: 0.4169 - accuracy: 0.8076 - val_loss: 0.4579 - val_accuracy: 0.7857\n",
      "Epoch 43/100\n",
      "177/177 [==============================] - 2s 11ms/step - loss: 0.4216 - accuracy: 0.8002 - val_loss: 0.4553 - val_accuracy: 0.7764\n",
      "Epoch 44/100\n",
      "177/177 [==============================] - 2s 11ms/step - loss: 0.4228 - accuracy: 0.8023 - val_loss: 0.4301 - val_accuracy: 0.7878\n",
      "Epoch 45/100\n",
      "177/177 [==============================] - 2s 12ms/step - loss: 0.4209 - accuracy: 0.8037 - val_loss: 0.6116 - val_accuracy: 0.7381\n",
      "Epoch 46/100\n",
      "177/177 [==============================] - 3s 18ms/step - loss: 0.4222 - accuracy: 0.8021 - val_loss: 0.4255 - val_accuracy: 0.7949\n",
      "Epoch 47/100\n",
      "177/177 [==============================] - 1s 8ms/step - loss: 0.4174 - accuracy: 0.8044 - val_loss: 0.4238 - val_accuracy: 0.7949\n",
      "Epoch 48/100\n",
      "177/177 [==============================] - 1s 7ms/step - loss: 0.4185 - accuracy: 0.8055 - val_loss: 0.4471 - val_accuracy: 0.7807\n",
      "Epoch 49/100\n",
      "177/177 [==============================] - 1s 6ms/step - loss: 0.4200 - accuracy: 0.7991 - val_loss: 0.4788 - val_accuracy: 0.7693\n",
      "Epoch 50/100\n",
      "177/177 [==============================] - 2s 10ms/step - loss: 0.4191 - accuracy: 0.8034 - val_loss: 0.4357 - val_accuracy: 0.7871\n",
      "Epoch 51/100\n",
      "177/177 [==============================] - 2s 14ms/step - loss: 0.4174 - accuracy: 0.8053 - val_loss: 0.4660 - val_accuracy: 0.7757\n",
      "Epoch 52/100\n",
      "177/177 [==============================] - 1s 7ms/step - loss: 0.4205 - accuracy: 0.8014 - val_loss: 0.4393 - val_accuracy: 0.7970\n",
      "Epoch 53/100\n",
      "177/177 [==============================] - 1s 6ms/step - loss: 0.4198 - accuracy: 0.8011 - val_loss: 0.4562 - val_accuracy: 0.7842\n",
      "Epoch 54/100\n",
      "177/177 [==============================] - 1s 7ms/step - loss: 0.4179 - accuracy: 0.8020 - val_loss: 0.4244 - val_accuracy: 0.7999\n",
      "Epoch 55/100\n",
      "177/177 [==============================] - 1s 6ms/step - loss: 0.4192 - accuracy: 0.8073 - val_loss: 0.5200 - val_accuracy: 0.7055\n",
      "Epoch 56/100\n",
      "177/177 [==============================] - 1s 6ms/step - loss: 0.4193 - accuracy: 0.8023 - val_loss: 0.4379 - val_accuracy: 0.7928\n",
      "Epoch 57/100\n",
      "177/177 [==============================] - 1s 7ms/step - loss: 0.4196 - accuracy: 0.8027 - val_loss: 0.4290 - val_accuracy: 0.7928\n",
      "Epoch 58/100\n",
      "177/177 [==============================] - 1s 6ms/step - loss: 0.4198 - accuracy: 0.8011 - val_loss: 0.5413 - val_accuracy: 0.7459\n",
      "Epoch 59/100\n",
      "177/177 [==============================] - 1s 7ms/step - loss: 0.4187 - accuracy: 0.8039 - val_loss: 0.4935 - val_accuracy: 0.7566\n",
      "Epoch 60/100\n",
      "177/177 [==============================] - 1s 7ms/step - loss: 0.4186 - accuracy: 0.8050 - val_loss: 0.5090 - val_accuracy: 0.7033\n",
      "Epoch 61/100\n",
      "177/177 [==============================] - 2s 14ms/step - loss: 0.4196 - accuracy: 0.8071 - val_loss: 0.4342 - val_accuracy: 0.7892\n",
      "Epoch 62/100\n",
      "177/177 [==============================] - 2s 10ms/step - loss: 0.4165 - accuracy: 0.8106 - val_loss: 0.4208 - val_accuracy: 0.7991\n",
      "Epoch 63/100\n",
      "177/177 [==============================] - 2s 11ms/step - loss: 0.4198 - accuracy: 0.8039 - val_loss: 0.4193 - val_accuracy: 0.7928\n",
      "Epoch 64/100\n",
      "177/177 [==============================] - 2s 10ms/step - loss: 0.4179 - accuracy: 0.8016 - val_loss: 0.4197 - val_accuracy: 0.7991\n",
      "Epoch 65/100\n",
      "177/177 [==============================] - 1s 7ms/step - loss: 0.4173 - accuracy: 0.8051 - val_loss: 0.4789 - val_accuracy: 0.7771\n",
      "Epoch 66/100\n",
      "177/177 [==============================] - 1s 8ms/step - loss: 0.4182 - accuracy: 0.8075 - val_loss: 0.5590 - val_accuracy: 0.7268\n",
      "Epoch 67/100\n",
      "177/177 [==============================] - 2s 8ms/step - loss: 0.4200 - accuracy: 0.8009 - val_loss: 0.4978 - val_accuracy: 0.7537\n",
      "Epoch 68/100\n",
      "177/177 [==============================] - 1s 7ms/step - loss: 0.4172 - accuracy: 0.8080 - val_loss: 0.4636 - val_accuracy: 0.7757\n",
      "Epoch 69/100\n",
      "177/177 [==============================] - 2s 9ms/step - loss: 0.4186 - accuracy: 0.8012 - val_loss: 0.4997 - val_accuracy: 0.7615\n",
      "Epoch 70/100\n",
      "177/177 [==============================] - 1s 7ms/step - loss: 0.4160 - accuracy: 0.8075 - val_loss: 0.4279 - val_accuracy: 0.7942\n",
      "Epoch 71/100\n",
      "177/177 [==============================] - 1s 7ms/step - loss: 0.4211 - accuracy: 0.8030 - val_loss: 0.4309 - val_accuracy: 0.7949\n",
      "Epoch 72/100\n",
      "177/177 [==============================] - 1s 8ms/step - loss: 0.4213 - accuracy: 0.7996 - val_loss: 0.4195 - val_accuracy: 0.7963\n",
      "Epoch 73/100\n",
      "177/177 [==============================] - 2s 9ms/step - loss: 0.4176 - accuracy: 0.8051 - val_loss: 0.4272 - val_accuracy: 0.7949\n",
      "Epoch 74/100\n",
      "177/177 [==============================] - 2s 9ms/step - loss: 0.4181 - accuracy: 0.8060 - val_loss: 0.4727 - val_accuracy: 0.7637\n",
      "Epoch 75/100\n",
      "177/177 [==============================] - 1s 8ms/step - loss: 0.4172 - accuracy: 0.8055 - val_loss: 0.4224 - val_accuracy: 0.7970\n",
      "Epoch 76/100\n",
      "177/177 [==============================] - 1s 8ms/step - loss: 0.4191 - accuracy: 0.8055 - val_loss: 0.4233 - val_accuracy: 0.7921\n",
      "Epoch 77/100\n",
      "177/177 [==============================] - 2s 10ms/step - loss: 0.4176 - accuracy: 0.8051 - val_loss: 0.4215 - val_accuracy: 0.7956\n",
      "Epoch 78/100\n",
      "177/177 [==============================] - 1s 8ms/step - loss: 0.4162 - accuracy: 0.8057 - val_loss: 1.0662 - val_accuracy: 0.4478\n",
      "Epoch 79/100\n",
      "177/177 [==============================] - 1s 7ms/step - loss: 0.4201 - accuracy: 0.8050 - val_loss: 0.5304 - val_accuracy: 0.7417\n",
      "Epoch 80/100\n",
      "177/177 [==============================] - 1s 8ms/step - loss: 0.4206 - accuracy: 0.8023 - val_loss: 0.6620 - val_accuracy: 0.6529\n",
      "Epoch 81/100\n",
      "177/177 [==============================] - 1s 6ms/step - loss: 0.4209 - accuracy: 0.8030 - val_loss: 0.4459 - val_accuracy: 0.7828\n",
      "Epoch 82/100\n",
      "177/177 [==============================] - 2s 9ms/step - loss: 0.4165 - accuracy: 0.8028 - val_loss: 0.5439 - val_accuracy: 0.7381\n",
      "Epoch 83/100\n",
      "177/177 [==============================] - 1s 8ms/step - loss: 0.4201 - accuracy: 0.8023 - val_loss: 0.4379 - val_accuracy: 0.7835\n",
      "Epoch 84/100\n",
      "177/177 [==============================] - 2s 9ms/step - loss: 0.4151 - accuracy: 0.8023 - val_loss: 0.4341 - val_accuracy: 0.7814\n",
      "Epoch 85/100\n",
      "177/177 [==============================] - 2s 8ms/step - loss: 0.4172 - accuracy: 0.8051 - val_loss: 0.4264 - val_accuracy: 0.7913\n",
      "Epoch 86/100\n",
      "177/177 [==============================] - 2s 9ms/step - loss: 0.4184 - accuracy: 0.8021 - val_loss: 0.5396 - val_accuracy: 0.7353\n",
      "Epoch 87/100\n",
      "177/177 [==============================] - 1s 8ms/step - loss: 0.4172 - accuracy: 0.8043 - val_loss: 0.6447 - val_accuracy: 0.6842\n",
      "Epoch 88/100\n",
      "177/177 [==============================] - 1s 8ms/step - loss: 0.4187 - accuracy: 0.8014 - val_loss: 0.4288 - val_accuracy: 0.7949\n",
      "Epoch 89/100\n",
      "177/177 [==============================] - 2s 10ms/step - loss: 0.4187 - accuracy: 0.8103 - val_loss: 0.4568 - val_accuracy: 0.7885\n",
      "Epoch 90/100\n",
      "177/177 [==============================] - 1s 8ms/step - loss: 0.4172 - accuracy: 0.8055 - val_loss: 0.4599 - val_accuracy: 0.7885\n",
      "Epoch 91/100\n",
      "177/177 [==============================] - 2s 10ms/step - loss: 0.4164 - accuracy: 0.8053 - val_loss: 0.4364 - val_accuracy: 0.7857\n",
      "Epoch 92/100\n",
      "177/177 [==============================] - 2s 9ms/step - loss: 0.4172 - accuracy: 0.8059 - val_loss: 0.4638 - val_accuracy: 0.7814\n",
      "Epoch 93/100\n",
      "177/177 [==============================] - 2s 10ms/step - loss: 0.4204 - accuracy: 0.8018 - val_loss: 0.4688 - val_accuracy: 0.7807\n",
      "Epoch 94/100\n",
      "177/177 [==============================] - 1s 7ms/step - loss: 0.4184 - accuracy: 0.8041 - val_loss: 0.4213 - val_accuracy: 0.7963\n",
      "Epoch 95/100\n",
      "177/177 [==============================] - 2s 9ms/step - loss: 0.4165 - accuracy: 0.8078 - val_loss: 0.6504 - val_accuracy: 0.6494\n",
      "Epoch 96/100\n",
      "177/177 [==============================] - 2s 12ms/step - loss: 0.4189 - accuracy: 0.8051 - val_loss: 0.4841 - val_accuracy: 0.7729\n",
      "Epoch 97/100\n",
      "177/177 [==============================] - 2s 11ms/step - loss: 0.4182 - accuracy: 0.8021 - val_loss: 0.4370 - val_accuracy: 0.7921\n",
      "Epoch 98/100\n",
      "177/177 [==============================] - 2s 13ms/step - loss: 0.4173 - accuracy: 0.8035 - val_loss: 0.4199 - val_accuracy: 0.7984\n",
      "Epoch 99/100\n",
      "177/177 [==============================] - 2s 11ms/step - loss: 0.4172 - accuracy: 0.8073 - val_loss: 0.4215 - val_accuracy: 0.7977\n",
      "Epoch 100/100\n",
      "177/177 [==============================] - 2s 10ms/step - loss: 0.4154 - accuracy: 0.8076 - val_loss: 0.5822 - val_accuracy: 0.7381\n"
     ]
    },
    {
     "data": {
      "text/plain": [
       "<keras.callbacks.History at 0x1212e75b0>"
      ]
     },
     "execution_count": 17,
     "metadata": {},
     "output_type": "execute_result"
    }
   ],
   "source": [
    "log_dir = \"logs/fit\" + datetime.datetime.now().strftime(\"%Y%m%d-%H%M%S\")\n",
    "tensorboard_callback = tf.keras.callbacks.TensorBoard(log_dir=log_dir, histogram_freq=1)\n",
    "%tensorboard --logdir log_dir\n",
    "\n",
    "model.fit(X_train, y_train, epochs=100, batch_size=32,validation_data=(X_test,y_test),callbacks=[tensorboard_callback])\n"
   ]
  },
  {
   "cell_type": "code",
   "execution_count": null,
   "metadata": {},
   "outputs": [
    {
     "name": "stdout",
     "output_type": "stream",
     "text": [
      "45/45 [==============================] - 1s 13ms/step\n"
     ]
    }
   ],
   "source": [
    "y_hat = model.predict(X_test,callbacks=[tensorboard_callback])\n",
    "y_hat = [0 if val < 0.5 else 1 for val in y_hat]"
   ]
  },
  {
   "cell_type": "code",
   "execution_count": null,
   "metadata": {},
   "outputs": [
    {
     "data": {
      "text/plain": [
       "0.7757274662881476"
      ]
     },
     "execution_count": 44,
     "metadata": {},
     "output_type": "execute_result"
    }
   ],
   "source": [
    "accuracy_score(y_test, y_hat)"
   ]
  },
  {
   "cell_type": "markdown",
   "metadata": {},
   "source": [
    "# 4. Saving and Reloading"
   ]
  },
  {
   "cell_type": "code",
   "execution_count": null,
   "metadata": {
    "collapsed": true
   },
   "outputs": [
    {
     "name": "stdout",
     "output_type": "stream",
     "text": [
      "INFO:tensorflow:Assets written to: tfmodel/assets\n"
     ]
    }
   ],
   "source": [
    "model.save('tfmodel')"
   ]
  },
  {
   "cell_type": "code",
   "execution_count": null,
   "metadata": {},
   "outputs": [],
   "source": [
    "del model "
   ]
  },
  {
   "cell_type": "code",
   "execution_count": null,
   "metadata": {},
   "outputs": [],
   "source": [
    "model = load_model('tfmodel')"
   ]
  }
 ],
 "metadata": {
  "kernelspec": {
   "display_name": "Python 3.10.5 64-bit",
   "language": "python",
   "name": "python3"
  },
  "language_info": {
   "codemirror_mode": {
    "name": "ipython",
    "version": 3
   },
   "file_extension": ".py",
   "mimetype": "text/x-python",
   "name": "python",
   "nbconvert_exporter": "python",
   "pygments_lexer": "ipython3",
   "version": "3.10.5"
  },
  "vscode": {
   "interpreter": {
    "hash": "aee8b7b246df8f9039afb4144a1f6fd8d2ca17a180786b69acc140d282b71a49"
   }
  }
 },
 "nbformat": 4,
 "nbformat_minor": 2
}
